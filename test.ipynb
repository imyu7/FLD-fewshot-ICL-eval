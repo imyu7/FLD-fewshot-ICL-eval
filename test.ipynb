{
 "cells": [
  {
   "cell_type": "markdown",
   "metadata": {},
   "source": [
    "# make smaller dataset"
   ]
  },
  {
   "cell_type": "code",
   "execution_count": 4,
   "metadata": {},
   "outputs": [
    {
     "name": "stdout",
     "output_type": "stream",
     "text": [
      "{'prompt': '******** First, we show some examples of deductive reasoning tasks below. ********\\n\\nAn example consists of an input part and an output part, shown after \"---- input ----\" and \"---- output ----,\" respectively.\\n\\nIn the input part, we have a set of facts shown after \"$facts$.\" Based on these facts, we want to verify a hypothesis written after \"$hypothesis.\"\\n\\nThe output part shows the step-by-step thought to verify the hypothesis.\\n\\nEach line of the output part shows a fine-grained reasoning step. In each step, the left side of the arrow \"->\"  shows the set of premises to be used, such as \"fact2 & int3\" if the set includes the fact numbered as two and the intermediate conclusion numbered as three. The right side of the arrow \"->\" shows the conclusion that logically follows from the premises. Note that this conclusion should be new, i.e., not match any of the facts or the previously derived conclusions. For example, the following is not allowed: \"fact3 -> int2: this is a sentence\" where the content of \"fact3\" is \"this is a sentence\".\\n\\nAfter these steps, we conclude either the hypothesis can be proved (__PROVED__), disproved (__DISPROVED__), or neither (__UNKNOWN__) because the facts are insufficient.\\n\\n\\n============ an example ============\\n\\n---- input ----\\n\\n$facts$ = fact1: なにかは詳しいしそれに伝達出来る fact2: もしも詳しい物が伝達出来るとすればこの獣医師は疑わし ; $hypothesis$ = この獣医師は疑わし ; $proof$ = \\n\\n---- output ----\\n\\nfact1 & fact2 -> hypothesis; __PROVED__\\n\\n\\n============ an example ============\\n\\n---- input ----\\n\\n$facts$ = fact1: もしあの病期はスコアーであるということはないとしたら「その認知的要因は捕まえ易くないかまたはそれは求婚者でない」ということは誤りだ fact2: あの病期はスコアーでない ; $hypothesis$ = その認知的要因は捕まえ易くないかまたは求婚者でない ; $proof$ = \\n\\n---- output ----\\n\\nfact1 & fact2 -> hypothesis; __DISPROVED__\\n\\n\\n============ an example ============\\n\\n---- input ----\\n\\n$facts$ = fact1: 「なにかは御勧めしないならば死刑であるかまたはネストする」ということは偽である ; $hypothesis$ = この宗教人は熱苦しい ; $proof$ = \\n\\n---- output ----\\n\\n__UNKNOWN__\\n\\n\\n============ an example ============\\n\\n---- input ----\\n\\n$facts$ = fact1: もし「硬軟でないし扱わない」物があるとするとこのホモ・サピエンスは無くしない fact2: ある物は硬軟でなくておまけに扱わない ; $hypothesis$ = このホモ・サピエンスは無くするということはない ; $proof$ = \\n\\n---- output ----\\n\\nfact2 & fact1 -> hypothesis; __PROVED__\\n\\n\\n============ an example ============\\n\\n---- input ----\\n\\n$facts$ = fact1: 仮に「あの段差部は三願いである」ということは本当だとするとその八千五百万人はどでかい ; $hypothesis$ = その八千五百万人はどでかい ; $proof$ = \\n\\n---- output ----\\n\\n__UNKNOWN__\\n\\n\\n******* 2. Now, solve the following example, i.e., write a step-by-step thought to verify the hypothesis after the \"output\", using exactly the same format demonstrated in the above examples\\n\\n\\n============ an example ============\\n\\n---- input ----\\n\\n$facts$ = fact1: この花園神社が信託法だしそれはガラス棒である ; $hypothesis$ = この花園神社は信託法でない ; $proof$ = \\n\\n---- output ----', 'gold_proof': 'fact1 -> hypothesis; __DISPROVED__', 'ICL_examples': [{'version': '0.3', 'hypothesis': 'この獣医師は疑わし', 'hypothesis_formula': '{C}{a}', 'facts': 'fact1: なにかは詳しいしそれに伝達出来る fact2: もしも詳しい物が伝達出来るとすればこの獣医師は疑わし', 'facts_formula': 'fact1: (Ex): ({A}x & {B}x) fact2: (x): ({A}x & {B}x) -> {C}{a}', 'proofs': ['fact1 & fact2 -> hypothesis;'], 'proofs_formula': ['fact1 & fact2 -> hypothesis;'], 'negative_hypothesis': None, 'negative_hypothesis_formula': None, 'negative_proofs': [], 'negative_original_tree_depth': None, 'original_tree_depth': 1, 'depth': 1, 'num_formula_distractors': 0, 'num_translation_distractors': 0, 'num_all_distractors': 0, 'proof_label': 'PROVED', 'negative_proof_label': None, 'world_assump_label': 'PROVED', 'negative_world_assump_label': None, 'prompt_serial': '$facts$ = fact1: なにかは詳しいしそれに伝達出来る fact2: もしも詳しい物が伝達出来るとすればこの獣医師は疑わし ; $hypothesis$ = この獣医師は疑わし ; $proof$ = ', 'proof_serial': 'fact1 & fact2 -> hypothesis; __PROVED__', 'prompt_serial_formula': '$facts$ = fact1: (Ex): ({A}x & {B}x) fact2: (x): ({A}x & {B}x) -> {C}{a} ; $hypothesis$ = {C}{a} ; $proof$ = ', 'proof_serial_formula': 'fact1 & fact2 -> hypothesis; __PROVED__'}, {'version': '0.3', 'hypothesis': 'その認知的要因は捕まえ易くないかまたは求婚者でない', 'hypothesis_formula': '(¬{AA}{b} v ¬{AB}{b})', 'facts': 'fact1: もしあの病期はスコアーであるということはないとしたら「その認知的要因は捕まえ易くないかまたはそれは求婚者でない」ということは誤りだ fact2: あの病期はスコアーでない', 'facts_formula': 'fact1: ¬{A}{a} -> ¬(¬{AA}{b} v ¬{AB}{b}) fact2: ¬{A}{a}', 'proofs': ['fact1 & fact2 -> hypothesis;'], 'proofs_formula': ['fact1 & fact2 -> hypothesis;'], 'negative_hypothesis': None, 'negative_hypothesis_formula': None, 'negative_proofs': [], 'negative_original_tree_depth': None, 'original_tree_depth': 1, 'depth': 1, 'num_formula_distractors': 0, 'num_translation_distractors': 0, 'num_all_distractors': 0, 'proof_label': 'DISPROVED', 'negative_proof_label': None, 'world_assump_label': 'DISPROVED', 'negative_world_assump_label': None, 'prompt_serial': '$facts$ = fact1: もしあの病期はスコアーであるということはないとしたら「その認知的要因は捕まえ易くないかまたはそれは求婚者でない」ということは誤りだ fact2: あの病期はスコアーでない ; $hypothesis$ = その認知的要因は捕まえ易くないかまたは求婚者でない ; $proof$ = ', 'proof_serial': 'fact1 & fact2 -> hypothesis; __DISPROVED__', 'prompt_serial_formula': '$facts$ = fact1: ¬{A}{a} -> ¬(¬{AA}{b} v ¬{AB}{b}) fact2: ¬{A}{a} ; $hypothesis$ = (¬{AA}{b} v ¬{AB}{b}) ; $proof$ = ', 'proof_serial_formula': 'fact1 & fact2 -> hypothesis; __DISPROVED__'}, {'version': '0.3', 'hypothesis': 'この宗教人は熱苦しい', 'hypothesis_formula': '{A}{a}', 'facts': 'fact1: 「なにかは御勧めしないならば死刑であるかまたはネストする」ということは偽である', 'facts_formula': 'fact1: 「なにかは御勧めしないならば死刑であるかまたはネストする」ということは偽である', 'proofs': [], 'proofs_formula': [], 'negative_hypothesis': None, 'negative_hypothesis_formula': None, 'negative_proofs': [], 'negative_original_tree_depth': None, 'original_tree_depth': 1, 'depth': None, 'num_formula_distractors': 0, 'num_translation_distractors': 0, 'num_all_distractors': 0, 'proof_label': 'UNKNOWN', 'negative_proof_label': None, 'world_assump_label': 'UNKNOWN', 'negative_world_assump_label': None, 'prompt_serial': '$facts$ = fact1: 「なにかは御勧めしないならば死刑であるかまたはネストする」ということは偽である ; $hypothesis$ = この宗教人は熱苦しい ; $proof$ = ', 'proof_serial': '__UNKNOWN__', 'prompt_serial_formula': '$facts$ = fact1: 「なにかは御勧めしないならば死刑であるかまたはネストする」ということは偽である ; $hypothesis$ = {A}{a} ; $proof$ = ', 'proof_serial_formula': '__UNKNOWN__'}, {'version': '0.3', 'hypothesis': 'このホモ・サピエンスは無くするということはない', 'hypothesis_formula': '¬{C}{a}', 'facts': 'fact1: もし「硬軟でないし扱わない」物があるとするとこのホモ・サピエンスは無くしない fact2: ある物は硬軟でなくておまけに扱わない', 'facts_formula': 'fact1: (x): (¬{A}x & ¬{B}x) -> ¬{C}{a} fact2: (Ex): (¬{A}x & ¬{B}x)', 'proofs': ['fact2 & fact1 -> hypothesis;'], 'proofs_formula': ['fact2 & fact1 -> hypothesis;'], 'negative_hypothesis': None, 'negative_hypothesis_formula': None, 'negative_proofs': [], 'negative_original_tree_depth': None, 'original_tree_depth': 1, 'depth': 1, 'num_formula_distractors': 0, 'num_translation_distractors': 0, 'num_all_distractors': 0, 'proof_label': 'PROVED', 'negative_proof_label': None, 'world_assump_label': 'PROVED', 'negative_world_assump_label': None, 'prompt_serial': '$facts$ = fact1: もし「硬軟でないし扱わない」物があるとするとこのホモ・サピエンスは無くしない fact2: ある物は硬軟でなくておまけに扱わない ; $hypothesis$ = このホモ・サピエンスは無くするということはない ; $proof$ = ', 'proof_serial': 'fact2 & fact1 -> hypothesis; __PROVED__', 'prompt_serial_formula': '$facts$ = fact1: (x): (¬{A}x & ¬{B}x) -> ¬{C}{a} fact2: (Ex): (¬{A}x & ¬{B}x) ; $hypothesis$ = ¬{C}{a} ; $proof$ = ', 'proof_serial_formula': 'fact2 & fact1 -> hypothesis; __PROVED__'}, {'version': '0.3', 'hypothesis': 'その八千五百万人はどでかい', 'hypothesis_formula': '{B}{b}', 'facts': 'fact1: 仮に「あの段差部は三願いである」ということは本当だとするとその八千五百万人はどでかい', 'facts_formula': 'fact1: {A}{a} -> {B}{b}', 'proofs': [], 'proofs_formula': [], 'negative_hypothesis': None, 'negative_hypothesis_formula': None, 'negative_proofs': [], 'negative_original_tree_depth': None, 'original_tree_depth': 1, 'depth': None, 'num_formula_distractors': 0, 'num_translation_distractors': 0, 'num_all_distractors': 0, 'proof_label': 'UNKNOWN', 'negative_proof_label': None, 'world_assump_label': 'UNKNOWN', 'negative_world_assump_label': None, 'prompt_serial': '$facts$ = fact1: 仮に「あの段差部は三願いである」ということは本当だとするとその八千五百万人はどでかい ; $hypothesis$ = その八千五百万人はどでかい ; $proof$ = ', 'proof_serial': '__UNKNOWN__', 'prompt_serial_formula': '$facts$ = fact1: {A}{a} -> {B}{b} ; $hypothesis$ = {B}{b} ; $proof$ = ', 'proof_serial_formula': '__UNKNOWN__'}], 'example': {'version': '0.3', 'hypothesis': 'この花園神社は信託法でない', 'hypothesis_formula': '¬{A}{a}', 'facts': 'fact1: この花園神社が信託法だしそれはガラス棒である', 'facts_formula': 'fact1: ({A}{a} & {B}{a})', 'proofs': ['fact1 -> hypothesis;'], 'proofs_formula': ['fact1 -> hypothesis;'], 'negative_hypothesis': None, 'negative_hypothesis_formula': None, 'negative_proofs': [], 'negative_original_tree_depth': None, 'original_tree_depth': 1, 'depth': 1, 'num_formula_distractors': 0, 'num_translation_distractors': 0, 'num_all_distractors': 0, 'proof_label': 'DISPROVED', 'negative_proof_label': None, 'world_assump_label': 'DISPROVED', 'negative_world_assump_label': None, 'prompt_serial': '$facts$ = fact1: この花園神社が信託法だしそれはガラス棒である ; $hypothesis$ = この花園神社は信託法でない ; $proof$ = ', 'proof_serial': 'fact1 -> hypothesis; __DISPROVED__', 'prompt_serial_formula': '$facts$ = fact1: ({A}{a} & {B}{a}) ; $hypothesis$ = ¬{A}{a} ; $proof$ = ', 'proof_serial_formula': 'fact1 -> hypothesis; __DISPROVED__'}, 'prompt_num_words': 382}\n"
     ]
    }
   ],
   "source": [
    "import json\n",
    "\n",
    "with open('outputs/dataset/ICL_dataset.jsonl', 'r') as f:\n",
    "    json_list = [json.loads(line) for line in f]\n",
    "\n",
    "print(json_list[0])"
   ]
  },
  {
   "cell_type": "code",
   "execution_count": 6,
   "metadata": {},
   "outputs": [
    {
     "data": {
      "text/plain": [
       "50"
      ]
     },
     "execution_count": 6,
     "metadata": {},
     "output_type": "execute_result"
    }
   ],
   "source": [
    "json_list = json_list[:50]\n",
    "len(json_list)"
   ]
  },
  {
   "cell_type": "code",
   "execution_count": 8,
   "metadata": {},
   "outputs": [],
   "source": [
    "with open('outputs/dataset/ICL_dataset_50.jsonl', 'w') as f:\n",
    "    for json_obj in json_list:\n",
    "        f.write(json.dumps(json_obj) + '\\n')\n",
    "    "
   ]
  },
  {
   "cell_type": "markdown",
   "metadata": {},
   "source": [
    "環境構築メモ\n",
    "\n",
    "nltkのエラー対処\n",
    "- バージョンを3.8.1にダウングレード\n",
    "- Documents/weblab/FLD-fewshot-ICL-eval/venv/nltk_data で諸々ダウンロード"
   ]
  },
  {
   "cell_type": "code",
   "execution_count": null,
   "metadata": {},
   "outputs": [],
   "source": []
  }
 ],
 "metadata": {
  "kernelspec": {
   "display_name": "venv",
   "language": "python",
   "name": "python3"
  },
  "language_info": {
   "codemirror_mode": {
    "name": "ipython",
    "version": 3
   },
   "file_extension": ".py",
   "mimetype": "text/x-python",
   "name": "python",
   "nbconvert_exporter": "python",
   "pygments_lexer": "ipython3",
   "version": "3.12.4"
  }
 },
 "nbformat": 4,
 "nbformat_minor": 2
}
